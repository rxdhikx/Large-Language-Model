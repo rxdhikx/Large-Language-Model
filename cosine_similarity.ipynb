import numpy as np
import pandas as pd
import matplotlib.pyplot as plt

def plot_cosine_similarity_matrix(cosine_similarity_matrix):
    plt.figure(figsize=(8, 6))
    plt.imshow(cosine_similarity_matrix, cmap='viridis', interpolation='nearest')
    plt.colorbar(label='Cosine Similarity')
    plt.xlabel('Trivia Wiki Vectors')
    plt.ylabel('Trivia Web Vectors')
    plt.title('Cosine Similarity Matrix')
    plt.show()

# Load dataset1 and dataset2 from CSV files
dataset1 = pd.read_csv('100_res_trivia_web.csv')
dataset2 = pd.read_csv('100_res_trivia_wiki.csv')

# Assuming you have a function to calculate cosine similarity between the two datasets
def calculate_cosine_similarity(dataset1, dataset2):
    # Your code to calculate cosine similarity matrix goes here
    cosine_similarity_matrix = np.random.rand(len(dataset1), len(dataset2))  # Example random matrix, replace it with your actual cosine similarity matrix
    return cosine_similarity_matrix

# Calculate cosine similarity matrix
cosine_similarity_matrix = calculate_cosine_similarity(dataset1, dataset2)

# Plot the cosine similarity matrix
plot_cosine_similarity_matrix(cosine_similarity_matrix)
